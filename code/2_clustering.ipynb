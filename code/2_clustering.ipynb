{
 "cells": [
  {
   "cell_type": "code",
   "execution_count": 3,
   "metadata": {},
   "outputs": [
    {
     "name": "stdout",
     "output_type": "stream",
     "text": [
      "The autoreload extension is already loaded. To reload it, use:\n",
      "  %reload_ext autoreload\n"
     ]
    }
   ],
   "source": [
    "%load_ext autoreload\n",
    "%autoreload 2"
   ]
  },
  {
   "cell_type": "code",
   "execution_count": 4,
   "metadata": {},
   "outputs": [],
   "source": [
    "import os\n",
    "import sys\n",
    "\n",
    "import numpy as np\n",
    "import pandas as pd\n",
    "\n",
    "import kraft"
   ]
  },
  {
   "cell_type": "code",
   "execution_count": 5,
   "metadata": {},
   "outputs": [],
   "source": [
    "project_directory = \"~/github/celsus\"\n",
    "\n",
    "input_directory = os.path.join(project_directory, \"input/\")"
   ]
  },
  {
   "cell_type": "markdown",
   "metadata": {},
   "source": [
    "## cluster"
   ]
  },
  {
   "cell_type": "code",
   "execution_count": 12,
   "metadata": {},
   "outputs": [
    {
     "name": "stdout",
     "output_type": "stream",
     "text": [
      "                      C0          C1          C2\n",
      "TCGA_EW_A1P4  175.133717   96.361160   84.985756\n",
      "TCGA_E2_A14X  173.388666  105.070030   78.109354\n",
      "TCGA_AO_A128  126.603242  159.894434   91.406442\n",
      "TCGA_A7_A26F  170.518747  182.425378    8.520583\n",
      "TCGA_EW_A6SB  129.159527   50.274850  192.272597\n",
      "...                  ...         ...         ...\n",
      "TCGA_A2_A3XU  132.921364   11.440019  216.961953\n",
      "TCGA_D8_A1XQ  163.705258  106.587356   89.392380\n",
      "TCGA_A8_A08R  197.248986   84.970940   65.353971\n",
      "TCGA_A2_A0SX  167.180697  140.463999   57.983638\n",
      "TCGA_A2_A04P  112.514556  115.157982  157.460956\n",
      "\n",
      "[158 rows x 3 columns]\n",
      "================================================================================\n",
      "0\n",
      "================================================================================\n",
      "================================================================================\n",
      "1\n",
      "================================================================================\n",
      "================================================================================\n",
      "2\n",
      "================================================================================\n",
      "================================================================================\n",
      "3\n",
      "================================================================================\n",
      "================================================================================\n",
      "4\n",
      "================================================================================\n"
     ]
    }
   ],
   "source": [
    "# point_x_dimension = np.asarray(\n",
    "#     ((9, 19, 9, 19, 9), (0, 10, 0, 10, 0), (1, 11, 1, 11, 1), (8, 18, 8, 18, 8))\n",
    "# \n",
    "\n",
    "h_matrix = pd.read_csv(os.path.join(input_directory, \"nmf_k3_h.tsv\"), sep=\"\\t\", index_col=0)  \n",
    "\n",
    "point_x_dimension = h_matrix.T\n",
    "\n",
    "print(point_x_dimension)\n",
    "\n",
    "clusterings = []\n",
    "\n",
    "for n_cluster in range(5):\n",
    "\n",
    "    print(\"=\" * 80)\n",
    "\n",
    "    print(n_cluster)\n",
    "\n",
    "    print(\"=\" * 80)\n",
    "    \n",
    "    clusterings.append(kraft.clustering.cluster(point_x_dimension, cluster_n=n_cluster))"
   ]
  },
  {
   "cell_type": "code",
   "execution_count": 17,
   "metadata": {},
   "outputs": [],
   "source": [
    "cluster_assigments_4 = clusterings[4][1]"
   ]
  },
  {
   "cell_type": "markdown",
   "metadata": {},
   "source": [
    "## get_coclustering_distance"
   ]
  },
  {
   "cell_type": "code",
   "execution_count": 5,
   "metadata": {},
   "outputs": [
    {
     "name": "stdout",
     "output_type": "stream",
     "text": [
      "[[ 1.  0.  1.]\n",
      " [ 1.  0.  0.]\n",
      " [nan  1. nan]\n",
      " [nan  1.  1.]]\n",
      "================================================================================\n",
      "0\n"
     ]
    },
    {
     "ename": "AttributeError",
     "evalue": "module 'kraft.clustering' has no attribute 'get_coclustering_distance'",
     "output_type": "error",
     "traceback": [
      "\u001b[0;31m---------------------------------------------------------------------------\u001b[0m",
      "\u001b[0;31mAttributeError\u001b[0m                            Traceback (most recent call last)",
      "\u001b[0;32m<ipython-input-5-12684a17c6ac>\u001b[0m in \u001b[0;36m<module>\u001b[0;34m\u001b[0m\n\u001b[1;32m     14\u001b[0m \u001b[0;34m\u001b[0m\u001b[0m\n\u001b[1;32m     15\u001b[0m         print(\n\u001b[0;32m---> 16\u001b[0;31m             kraft.clustering.get_coclustering_distance(\n\u001b[0m\u001b[1;32m     17\u001b[0m                 \u001b[0mpoint_x_clustering\u001b[0m\u001b[0;34m,\u001b[0m \u001b[0mmin_n_clustered\u001b[0m\u001b[0;34m\u001b[0m\u001b[0;34m\u001b[0m\u001b[0m\n\u001b[1;32m     18\u001b[0m             )\n",
      "\u001b[0;31mAttributeError\u001b[0m: module 'kraft.clustering' has no attribute 'get_coclustering_distance'"
     ]
    }
   ],
   "source": [
    "point_x_clustering = np.array(\n",
    "    ((1, 1, np.nan, np.nan), (0, 0, 1, 1), (1, 0, np.nan, 1))\n",
    ").T\n",
    "\n",
    "print(point_x_clustering)\n",
    "\n",
    "for min_n_clustered in (0, 1):\n",
    "\n",
    "    print(\"=\" * 80)\n",
    "\n",
    "    print(min_n_clustered)\n",
    "\n",
    "    try:\n",
    "\n",
    "        print(\n",
    "            kraft.clustering._get_coclustering_distance(\n",
    "                point_x_clustering, min_n_clustered\n",
    "            )\n",
    "        )\n",
    "\n",
    "    except AssertionError as error:\n",
    "\n",
    "        print(error)"
   ]
  },
  {
   "cell_type": "markdown",
   "metadata": {},
   "source": [
    "## cluster_hierarchical_clusterings"
   ]
  },
  {
   "cell_type": "code",
   "execution_count": null,
   "metadata": {},
   "outputs": [],
   "source": [
    "point_x_dimension = np.random.random_sample(size=(80, 160))\n",
    "\n",
    "point_x_dimension[0::4, :] *= 1\n",
    "\n",
    "point_x_dimension[1::4, :] *= 2\n",
    "\n",
    "point_x_dimension[2::4, :] *= 3\n",
    "\n",
    "point_x_dimension[3::4, :] *= 4\n",
    "\n",
    "\n",
    "point_x_dimension = pd.DataFrame(\n",
    "    point_x_dimension,\n",
    "    index=pd.Index(\n",
    "        (\"Label {}\".format(i) for i in range(point_x_dimension.shape[0])), name=\"Axis 0\"\n",
    "    ),\n",
    "    columns=pd.Index(\n",
    "        (\"Lbael {}\".format(i) for i in range(point_x_dimension.shape[1])), name=\"Axis 1\"\n",
    "    ),\n",
    ")\n",
    "\n",
    "for n_cluster in (2, 3, 4):\n",
    "\n",
    "    for optimal_ordering in (False, True):\n",
    "\n",
    "        print(\"=\" * 80)\n",
    "\n",
    "        print(n_cluster, optimal_ordering)\n",
    "\n",
    "        kraft.clustering.cluster_hierarchical_clusterings(\n",
    "            point_x_dimension, n_cluster, optimal_ordering=optimal_ordering\n",
    "        )"
   ]
  }
 ],
 "metadata": {
  "kernelspec": {
   "display_name": "Python 3",
   "language": "python",
   "name": "python3"
  },
  "language_info": {
   "codemirror_mode": {
    "name": "ipython",
    "version": 3
   },
   "file_extension": ".py",
   "mimetype": "text/x-python",
   "name": "python",
   "nbconvert_exporter": "python",
   "pygments_lexer": "ipython3",
   "version": "3.8.5"
  }
 },
 "nbformat": 4,
 "nbformat_minor": 4
}
