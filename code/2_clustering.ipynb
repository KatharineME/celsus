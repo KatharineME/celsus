{
 "cells": [
  {
   "cell_type": "code",
   "execution_count": 9,
   "metadata": {},
   "outputs": [
    {
     "name": "stdout",
     "output_type": "stream",
     "text": [
      "The autoreload extension is already loaded. To reload it, use:\n",
      "  %reload_ext autoreload\n"
     ]
    }
   ],
   "source": [
    "%load_ext autoreload\n",
    "%autoreload 2"
   ]
  },
  {
   "cell_type": "code",
   "execution_count": 10,
   "metadata": {},
   "outputs": [],
   "source": [
    "import os\n",
    "import sys\n",
    "\n",
    "import numpy as np\n",
    "import pandas as pd\n",
    "\n",
    "import kraft"
   ]
  },
  {
   "cell_type": "markdown",
   "metadata": {},
   "source": [
    "## cluster"
   ]
  },
  {
   "cell_type": "code",
   "execution_count": 8,
   "metadata": {},
   "outputs": [
    {
     "ename": "NameError",
     "evalue": "name 'os' is not defined",
     "output_type": "error",
     "traceback": [
      "\u001b[0;31m---------------------------------------------------------------------------\u001b[0m",
      "\u001b[0;31mNameError\u001b[0m                                 Traceback (most recent call last)",
      "\u001b[0;32m<ipython-input-8-2c9494f1e6c8>\u001b[0m in \u001b[0;36m<module>\u001b[0;34m\u001b[0m\n\u001b[1;32m      3\u001b[0m \u001b[0;31m#\u001b[0m\u001b[0;34m\u001b[0m\u001b[0;34m\u001b[0m\u001b[0;34m\u001b[0m\u001b[0m\n\u001b[1;32m      4\u001b[0m \u001b[0;34m\u001b[0m\u001b[0m\n\u001b[0;32m----> 5\u001b[0;31m \u001b[0mpoint_x_dimension\u001b[0m \u001b[0;34m=\u001b[0m \u001b[0mpd\u001b[0m\u001b[0;34m.\u001b[0m\u001b[0mread_csv\u001b[0m\u001b[0;34m(\u001b[0m\u001b[0mos\u001b[0m\u001b[0;34m.\u001b[0m\u001b[0mpath\u001b[0m\u001b[0;34m.\u001b[0m\u001b[0mjoin\u001b[0m\u001b[0;34m(\u001b[0m\u001b[0minput_directory\u001b[0m\u001b[0;34m,\u001b[0m \u001b[0;34m\"nmf_k3_h.tsv\"\u001b[0m\u001b[0;34m)\u001b[0m\u001b[0;34m,\u001b[0m \u001b[0msep\u001b[0m\u001b[0;34m=\u001b[0m\u001b[0;34m\"\\t\"\u001b[0m\u001b[0;34m,\u001b[0m \u001b[0mindex_col\u001b[0m\u001b[0;34m=\u001b[0m\u001b[0;36m0\u001b[0m\u001b[0;34m)\u001b[0m\u001b[0;34m\u001b[0m\u001b[0;34m\u001b[0m\u001b[0m\n\u001b[0m\u001b[1;32m      6\u001b[0m \u001b[0;34m\u001b[0m\u001b[0m\n\u001b[1;32m      7\u001b[0m \u001b[0mprint\u001b[0m\u001b[0;34m(\u001b[0m\u001b[0mpoint_x_dimension\u001b[0m\u001b[0;34m)\u001b[0m\u001b[0;34m\u001b[0m\u001b[0;34m\u001b[0m\u001b[0m\n",
      "\u001b[0;31mNameError\u001b[0m: name 'os' is not defined"
     ]
    }
   ],
   "source": [
    "# point_x_dimension = np.asarray(\n",
    "#     ((9, 19, 9, 19, 9), (0, 10, 0, 10, 0), (1, 11, 1, 11, 1), (8, 18, 8, 18, 8))\n",
    "# \n",
    "\n",
    "point_x_dimension = pd.read_csv(os.path.join(input_directory, \"nmf_k3_h.tsv\"), sep=\"\\t\", index_col=0) \n",
    "\n",
    "print(point_x_dimension)\n",
    "\n",
    "for n_cluster in range(3):\n",
    "\n",
    "    print(\"=\" * 80)\n",
    "\n",
    "    print(n_cluster)\n",
    "\n",
    "    print(kraft.clustering.cluster(point_x_dimension, cluster_n=n_cluster))"
   ]
  },
  {
   "cell_type": "markdown",
   "metadata": {},
   "source": [
    "## get_coclustering_distance"
   ]
  },
  {
   "cell_type": "code",
   "execution_count": 5,
   "metadata": {},
   "outputs": [
    {
     "name": "stdout",
     "output_type": "stream",
     "text": [
      "[[ 1.  0.  1.]\n",
      " [ 1.  0.  0.]\n",
      " [nan  1. nan]\n",
      " [nan  1.  1.]]\n",
      "================================================================================\n",
      "0\n"
     ]
    },
    {
     "ename": "AttributeError",
     "evalue": "module 'kraft.clustering' has no attribute 'get_coclustering_distance'",
     "output_type": "error",
     "traceback": [
      "\u001b[0;31m---------------------------------------------------------------------------\u001b[0m",
      "\u001b[0;31mAttributeError\u001b[0m                            Traceback (most recent call last)",
      "\u001b[0;32m<ipython-input-5-12684a17c6ac>\u001b[0m in \u001b[0;36m<module>\u001b[0;34m\u001b[0m\n\u001b[1;32m     14\u001b[0m \u001b[0;34m\u001b[0m\u001b[0m\n\u001b[1;32m     15\u001b[0m         print(\n\u001b[0;32m---> 16\u001b[0;31m             kraft.clustering.get_coclustering_distance(\n\u001b[0m\u001b[1;32m     17\u001b[0m                 \u001b[0mpoint_x_clustering\u001b[0m\u001b[0;34m,\u001b[0m \u001b[0mmin_n_clustered\u001b[0m\u001b[0;34m\u001b[0m\u001b[0;34m\u001b[0m\u001b[0m\n\u001b[1;32m     18\u001b[0m             )\n",
      "\u001b[0;31mAttributeError\u001b[0m: module 'kraft.clustering' has no attribute 'get_coclustering_distance'"
     ]
    }
   ],
   "source": [
    "point_x_clustering = np.array(\n",
    "    ((1, 1, np.nan, np.nan), (0, 0, 1, 1), (1, 0, np.nan, 1))\n",
    ").T\n",
    "\n",
    "print(point_x_clustering)\n",
    "\n",
    "for min_n_clustered in (0, 1):\n",
    "\n",
    "    print(\"=\" * 80)\n",
    "\n",
    "    print(min_n_clustered)\n",
    "\n",
    "    try:\n",
    "\n",
    "        print(\n",
    "            kraft.clustering._get_coclustering_distance(\n",
    "                point_x_clustering, min_n_clustered\n",
    "            )\n",
    "        )\n",
    "\n",
    "    except AssertionError as error:\n",
    "\n",
    "        print(error)"
   ]
  },
  {
   "cell_type": "markdown",
   "metadata": {},
   "source": [
    "## cluster_hierarchical_clusterings"
   ]
  },
  {
   "cell_type": "code",
   "execution_count": null,
   "metadata": {},
   "outputs": [],
   "source": [
    "point_x_dimension = np.random.random_sample(size=(80, 160))\n",
    "\n",
    "point_x_dimension[0::4, :] *= 1\n",
    "\n",
    "point_x_dimension[1::4, :] *= 2\n",
    "\n",
    "point_x_dimension[2::4, :] *= 3\n",
    "\n",
    "point_x_dimension[3::4, :] *= 4\n",
    "\n",
    "\n",
    "point_x_dimension = pd.DataFrame(\n",
    "    point_x_dimension,\n",
    "    index=pd.Index(\n",
    "        (\"Label {}\".format(i) for i in range(point_x_dimension.shape[0])), name=\"Axis 0\"\n",
    "    ),\n",
    "    columns=pd.Index(\n",
    "        (\"Lbael {}\".format(i) for i in range(point_x_dimension.shape[1])), name=\"Axis 1\"\n",
    "    ),\n",
    ")\n",
    "\n",
    "for n_cluster in (2, 3, 4):\n",
    "\n",
    "    for optimal_ordering in (False, True):\n",
    "\n",
    "        print(\"=\" * 80)\n",
    "\n",
    "        print(n_cluster, optimal_ordering)\n",
    "\n",
    "        kraft.clustering.cluster_hierarchical_clusterings(\n",
    "            point_x_dimension, n_cluster, optimal_ordering=optimal_ordering\n",
    "        )"
   ]
  }
 ],
 "metadata": {
  "kernelspec": {
   "display_name": "Python 3",
   "language": "python",
   "name": "python3"
  },
  "language_info": {
   "codemirror_mode": {
    "name": "ipython",
    "version": 3
   },
   "file_extension": ".py",
   "mimetype": "text/x-python",
   "name": "python",
   "nbconvert_exporter": "python",
   "pygments_lexer": "ipython3",
   "version": "3.8.5"
  }
 },
 "nbformat": 4,
 "nbformat_minor": 4
}
