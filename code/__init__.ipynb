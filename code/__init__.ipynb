{
 "cells": [
  {
   "cell_type": "code",
   "execution_count": 2,
   "metadata": {},
   "outputs": [
    {
     "name": "stdout",
     "output_type": "stream",
     "text": [
      "The autoreload extension is already loaded. To reload it, use:\n",
      "  %reload_ext autoreload\n"
     ]
    }
   ],
   "source": [
    "%load_ext autoreload\n",
    "%autoreload 2"
   ]
  },
  {
   "cell_type": "code",
   "execution_count": 3,
   "metadata": {},
   "outputs": [],
   "source": [
    "import os\n",
    "import re"
   ]
  },
  {
   "cell_type": "code",
   "execution_count": 4,
   "metadata": {},
   "outputs": [
    {
     "name": "stdout",
     "output_type": "stream",
     "text": [
      "setup.py\n"
     ]
    }
   ],
   "source": [
    "directory_path = \"/Users/kate/github/kraft/\"\n",
    "\n",
    "lines = []\n",
    "\n",
    "for name in sorted(os.listdir(path=directory_path)):\n",
    "\n",
    "    if re.match(r\"^[^._].+\\.py$\", name):\n",
    "\n",
    "        print(name)\n",
    "\n",
    "        lines.append(\"from . import {}\".format(name[: -len(\".py\")]))\n",
    "\n",
    "with open(\"{}/__init__.py\".format(directory_path), mode=\"w\") as io:\n",
    "\n",
    "    io.writelines(\"\\n\".join(lines))"
   ]
  },
  {
   "cell_type": "code",
   "execution_count": 5,
   "metadata": {},
   "outputs": [
    {
     "name": "stdout",
     "output_type": "stream",
     "text": [
      "34\n"
     ]
    },
    {
     "data": {
      "text/plain": [
       "['CONSTANT',\n",
       " '__builtins__',\n",
       " '__cached__',\n",
       " '__doc__',\n",
       " '__file__',\n",
       " '__loader__',\n",
       " '__name__',\n",
       " '__package__',\n",
       " '__path__',\n",
       " '__spec__',\n",
       " 'array',\n",
       " 'clustering',\n",
       " 'dict',\n",
       " 'function_heat_map',\n",
       " 'gct',\n",
       " 'geo',\n",
       " 'geometry',\n",
       " 'gps_map',\n",
       " 'grid',\n",
       " 'information',\n",
       " 'internet',\n",
       " 'json',\n",
       " 'kernel_density',\n",
       " 'matrix_factorization',\n",
       " 'name_biology',\n",
       " 'path',\n",
       " 'pd',\n",
       " 'plot',\n",
       " 'point',\n",
       " 'probability',\n",
       " 'sea',\n",
       " 'shell',\n",
       " 'significance',\n",
       " 'support']"
      ]
     },
     "execution_count": 5,
     "metadata": {},
     "output_type": "execute_result"
    }
   ],
   "source": [
    "import kraft\n",
    "\n",
    "names = dir(kraft)\n",
    "\n",
    "print(len(names))\n",
    "\n",
    "names"
   ]
  },
  {
   "cell_type": "code",
   "execution_count": 7,
   "metadata": {},
   "outputs": [
    {
     "name": "stdout",
     "output_type": "stream",
     "text": [
      "0_CONSTANT.ipynb\n",
      "1_geo.ipynb\n",
      "2_gps_map.ipynb\n",
      "clustering.ipynb\n",
      "function_heat_map.ipynb\n",
      "matrix_factorization.ipynb\n",
      "pd_df.ipynb\n",
      "plot.ipynb\n"
     ]
    }
   ],
   "source": [
    "for name in sorted(os.listdir()):\n",
    "\n",
    "    if re.match(r\"^[^._].+\\.ipynb$\", name):\n",
    "        \n",
    "        kraft.shell.command(\n",
    "            \"jupyter nbconvert --execute --ExecutePreprocessor.timeout=-1 --inplace {}\".format(\n",
    "                name\n",
    "            )\n",
    "        )"
   ]
  }
 ],
 "metadata": {
  "@webio": {
   "lastCommId": null,
   "lastKernelId": null
  },
  "kernelspec": {
   "display_name": "Python 3",
   "language": "python",
   "name": "python3"
  },
  "language_info": {
   "codemirror_mode": {
    "name": "ipython",
    "version": 3
   },
   "file_extension": ".py",
   "mimetype": "text/x-python",
   "name": "python",
   "nbconvert_exporter": "python",
   "pygments_lexer": "ipython3",
   "version": "3.8.5"
  }
 },
 "nbformat": 4,
 "nbformat_minor": 4
}
